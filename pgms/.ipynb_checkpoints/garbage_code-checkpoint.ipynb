{
 "cells": [
  {
   "cell_type": "code",
   "execution_count": null,
   "metadata": {},
   "outputs": [],
   "source": [
    "for i in class_weights:\n",
    "    if i == 'balanced':\n",
    "        class_weight = i\n",
    "    else:\n",
    "        class_weight = {0:1, 1:i}\n",
    "    custom_params = {'bootstrap': True,\n",
    "     'class_weight': class_weight,\n",
    "     'criterion': 'gini',\n",
    "     'max_depth': 4,\n",
    "     'max_features': 'auto',\n",
    "     'n_estimators': 10}\n",
    "    accs = []\n",
    "    sens = []\n",
    "    specs = []\n",
    "    false_negs = []\n",
    "    for k in random_seeds:\n",
    "        model_custom = RandomForestClassifier(**custom_params, random_state = k)\n",
    "        model_custom.fit(x_train, y_train)\n",
    "        y_pred_custom = model_custom.predict(x_test)\n",
    "        y_train_pred_custom = model_custom.predict(x_train)\n",
    "        tn, fp, fn, tp = confusion_matrix(y_test, y_pred_custom).ravel()\n",
    "        false_neg = fn/(fn + tp)\n",
    "        accuracy = accuracy_score(y_test, y_pred_custom)\n",
    "        specificity = tn / (tn+fp)\n",
    "        sensitivity = tp / (tp + fn)\n",
    "        accs.append(accuracy)\n",
    "        specs.append(specificity)\n",
    "        sens.append(sensitivity)\n",
    "        false_negs.append(false_neg)\n",
    "    df = df.append({'weight_odds': i,\n",
    "                   'accuracy': stats.median(accs),\n",
    "                   'sensitivity': stats.median(sens),\n",
    "                   'specificity': stats.median(specs),\n",
    "                   'false_negative': stats.median(false_negs)}, ignore_index = True)"
   ]
  }
 ],
 "metadata": {
  "kernelspec": {
   "display_name": "Python 3",
   "language": "python",
   "name": "python3"
  },
  "language_info": {
   "codemirror_mode": {
    "name": "ipython",
    "version": 3
   },
   "file_extension": ".py",
   "mimetype": "text/x-python",
   "name": "python",
   "nbconvert_exporter": "python",
   "pygments_lexer": "ipython3",
   "version": "3.8.2"
  }
 },
 "nbformat": 4,
 "nbformat_minor": 4
}
