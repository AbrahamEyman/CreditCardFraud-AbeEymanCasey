{
 "cells": [
  {
   "cell_type": "code",
   "execution_count": 1,
   "metadata": {},
   "outputs": [
    {
     "name": "stdout",
     "output_type": "stream",
     "text": [
      "The history saving thread hit an unexpected error (DatabaseError('database disk image is malformed')).History will not be written to the database.\n"
     ]
    }
   ],
   "source": [
    "url = \"https://raw.githubusercontent.com/emmanueliarussi/DataScienceCapstone/master/3_MidtermProjects/ProjectCCF/data/creditcard_a.csv\"\n",
    "urlb = \"https://raw.githubusercontent.com/emmanueliarussi/DataScienceCapstone/master/3_MidtermProjects/ProjectCCF/data/creditcard_b.csv\""
   ]
  },
  {
   "cell_type": "code",
   "execution_count": 4,
   "metadata": {},
   "outputs": [],
   "source": [
    "import pandas as pd\n",
    "import numpy as np\n",
    "import os"
   ]
  },
  {
   "cell_type": "code",
   "execution_count": 3,
   "metadata": {},
   "outputs": [],
   "source": [
    "df = pd.read_csv(url)\n",
    "df_b = pd.read_csv(urlb)"
   ]
  },
  {
   "cell_type": "code",
   "execution_count": 6,
   "metadata": {},
   "outputs": [
    {
     "data": {
      "text/plain": [
       "'/mnt/d/Denver/final_quarter/capstone/Masters-Degree-Capstone/pgms'"
      ]
     },
     "execution_count": 6,
     "metadata": {},
     "output_type": "execute_result"
    }
   ],
   "source": [
    "os.getcwd()"
   ]
  },
  {
   "cell_type": "code",
   "execution_count": 7,
   "metadata": {},
   "outputs": [],
   "source": [
    "#df.to_csv(r'/mnt/d/Denver/final_quarter/capstone/Masters-Degree-Capstone/data/creditcard_a.csv', index = False)\n",
    "#df_b.to_csv(r'/mnt/d/Denver/final_quarter/capstone/Masters-Degree-Capstone/data/creditcard_b.csv', index = False)\n"
   ]
  },
  {
   "cell_type": "code",
   "execution_count": 13,
   "metadata": {},
   "outputs": [
    {
     "name": "stdout",
     "output_type": "stream",
     "text": [
      "<class 'pandas.core.frame.DataFrame'>\n",
      "RangeIndex: 188261 entries, 0 to 188260\n",
      "Data columns (total 31 columns):\n",
      " #   Column  Non-Null Count   Dtype  \n",
      "---  ------  --------------   -----  \n",
      " 0   Time    188261 non-null  float64\n",
      " 1   V1      188261 non-null  float64\n",
      " 2   V2      188261 non-null  float64\n",
      " 3   V3      188261 non-null  float64\n",
      " 4   V4      188261 non-null  float64\n",
      " 5   V5      188261 non-null  float64\n",
      " 6   V6      188261 non-null  float64\n",
      " 7   V7      188261 non-null  float64\n",
      " 8   V8      188261 non-null  float64\n",
      " 9   V9      188261 non-null  float64\n",
      " 10  V10     188261 non-null  float64\n",
      " 11  V11     188261 non-null  float64\n",
      " 12  V12     188261 non-null  float64\n",
      " 13  V13     188261 non-null  float64\n",
      " 14  V14     188261 non-null  float64\n",
      " 15  V15     188261 non-null  float64\n",
      " 16  V16     188261 non-null  float64\n",
      " 17  V17     188261 non-null  float64\n",
      " 18  V18     188261 non-null  float64\n",
      " 19  V19     188261 non-null  float64\n",
      " 20  V20     188261 non-null  float64\n",
      " 21  V21     188261 non-null  float64\n",
      " 22  V22     188261 non-null  float64\n",
      " 23  V23     188261 non-null  float64\n",
      " 24  V24     188261 non-null  float64\n",
      " 25  V25     188261 non-null  float64\n",
      " 26  V26     188261 non-null  float64\n",
      " 27  V27     188261 non-null  float64\n",
      " 28  V28     188261 non-null  float64\n",
      " 29  Amount  188261 non-null  float64\n",
      " 30  Class   188261 non-null  int64  \n",
      "dtypes: float64(30), int64(1)\n",
      "memory usage: 44.5 MB\n"
     ]
    }
   ],
   "source": [
    "df.info()"
   ]
  },
  {
   "cell_type": "code",
   "execution_count": 14,
   "metadata": {},
   "outputs": [
    {
     "name": "stdout",
     "output_type": "stream",
     "text": [
      "<class 'pandas.core.frame.DataFrame'>\n",
      "RangeIndex: 96546 entries, 0 to 96545\n",
      "Data columns (total 31 columns):\n",
      " #   Column  Non-Null Count  Dtype  \n",
      "---  ------  --------------  -----  \n",
      " 0   Time    96546 non-null  int64  \n",
      " 1   V1      96546 non-null  float64\n",
      " 2   V2      96546 non-null  float64\n",
      " 3   V3      96546 non-null  float64\n",
      " 4   V4      96546 non-null  float64\n",
      " 5   V5      96546 non-null  float64\n",
      " 6   V6      96546 non-null  float64\n",
      " 7   V7      96546 non-null  float64\n",
      " 8   V8      96546 non-null  float64\n",
      " 9   V9      96546 non-null  float64\n",
      " 10  V10     96546 non-null  float64\n",
      " 11  V11     96546 non-null  float64\n",
      " 12  V12     96546 non-null  float64\n",
      " 13  V13     96546 non-null  float64\n",
      " 14  V14     96546 non-null  float64\n",
      " 15  V15     96546 non-null  float64\n",
      " 16  V16     96546 non-null  float64\n",
      " 17  V17     96546 non-null  float64\n",
      " 18  V18     96546 non-null  float64\n",
      " 19  V19     96546 non-null  float64\n",
      " 20  V20     96546 non-null  float64\n",
      " 21  V21     96546 non-null  float64\n",
      " 22  V22     96546 non-null  float64\n",
      " 23  V23     96546 non-null  float64\n",
      " 24  V24     96546 non-null  float64\n",
      " 25  V25     96546 non-null  float64\n",
      " 26  V26     96546 non-null  float64\n",
      " 27  V27     96546 non-null  float64\n",
      " 28  V28     96546 non-null  float64\n",
      " 29  Amount  96546 non-null  float64\n",
      " 30  Class   96546 non-null  int64  \n",
      "dtypes: float64(29), int64(2)\n",
      "memory usage: 22.8 MB\n"
     ]
    }
   ],
   "source": [
    "df_b.info()"
   ]
  },
  {
   "cell_type": "code",
   "execution_count": null,
   "metadata": {},
   "outputs": [],
   "source": []
  }
 ],
 "metadata": {
  "kernelspec": {
   "display_name": "Python 3",
   "language": "python",
   "name": "python3"
  },
  "language_info": {
   "codemirror_mode": {
    "name": "ipython",
    "version": 3
   },
   "file_extension": ".py",
   "mimetype": "text/x-python",
   "name": "python",
   "nbconvert_exporter": "python",
   "pygments_lexer": "ipython3",
   "version": "3.8.2"
  }
 },
 "nbformat": 4,
 "nbformat_minor": 4
}
